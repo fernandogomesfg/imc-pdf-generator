{
  "nbformat": 4,
  "nbformat_minor": 0,
  "metadata": {
    "colab": {
      "provenance": [],
      "authorship_tag": "ABX9TyM553XVLeF5YVcoQqOzLhFm",
      "include_colab_link": true
    },
    "kernelspec": {
      "name": "python3",
      "display_name": "Python 3"
    },
    "language_info": {
      "name": "python"
    }
  },
  "cells": [
    {
      "cell_type": "markdown",
      "metadata": {
        "id": "view-in-github",
        "colab_type": "text"
      },
      "source": [
        "<a href=\"https://colab.research.google.com/github/fernandogomesfg/imc-pdf-generator/blob/main/imc_pdf_generator.ipynb\" target=\"_parent\"><img src=\"https://colab.research.google.com/assets/colab-badge.svg\" alt=\"Open In Colab\"/></a>"
      ]
    },
    {
      "cell_type": "markdown",
      "source": [
        "# Entrada de Dados"
      ],
      "metadata": {
        "id": "eACRnr0Ta81y"
      }
    },
    {
      "cell_type": "code",
      "source": [
        "nome = input(\"Digite o nome do paciente: \")\n",
        "idade = input(\"digite a idade do paciente: \")\n",
        "peso = float(input(\"Digite o peso em kg do paciente: \"))\n",
        "altura = float(input(\"Digite a altura em metros do paciente: \"))"
      ],
      "metadata": {
        "colab": {
          "base_uri": "https://localhost:8080/"
        },
        "id": "6ZYK4frZbhaj",
        "outputId": "50e3961f-ccec-4147-e7a7-2981cc8bda37"
      },
      "execution_count": 14,
      "outputs": [
        {
          "name": "stdout",
          "output_type": "stream",
          "text": [
            "Digite o nome do paciente: Fernando Gomes\n",
            "digite a idade do paciente: 20\n",
            "Digite o peso em kg do paciente: 60\n",
            "Digite a altura em metros do paciente: 1.71\n"
          ]
        }
      ]
    },
    {
      "cell_type": "markdown",
      "source": [
        "# Processamento de Dados"
      ],
      "metadata": {
        "id": "T4_W5tkza87B"
      }
    },
    {
      "cell_type": "markdown",
      "source": [
        "## Calculo do IMC"
      ],
      "metadata": {
        "id": "zOavhPvKchdh"
      }
    },
    {
      "cell_type": "code",
      "source": [
        "imc = peso / (altura * altura)"
      ],
      "metadata": {
        "colab": {
          "base_uri": "https://localhost:8080/"
        },
        "id": "rJWu7UC7cIYC",
        "outputId": "bcf18398-39d1-4e58-e39f-9a72843acdfa"
      },
      "execution_count": 6,
      "outputs": [
        {
          "output_type": "execute_result",
          "data": {
            "text/plain": [
              "float"
            ]
          },
          "metadata": {},
          "execution_count": 6
        }
      ]
    },
    {
      "cell_type": "markdown",
      "source": [
        "## Verificação das Condicões"
      ],
      "metadata": {
        "id": "dG-jgcf7ckPK"
      }
    },
    {
      "cell_type": "code",
      "source": [
        "status = ''\n",
        "if (imc <= 18.5):\n",
        "  status = \"Abaixo do Peso!\"\n",
        "  print(f\"{status} Seu IMC: {imc}\")\n",
        "elif (imc >= 18.6 and imc <= 24.9):\n",
        "  status = \"Peso Ideal!\"\n",
        "  print(f\"{status} Seu IMC: {imc}\")\n",
        "elif (imc >= 25 and imc <= 29.9):\n",
        "  status = \"Levemente acima do peso!\"\n",
        "  print(f\"{status} Seu IMC: {imc}\")\n",
        "elif (imc >= 30 and imc <= 34.9):\n",
        "  status = \"Obesidade grau I!\"\n",
        "  print(f\"{status} Seu IMC: {imc}\")\n",
        "elif (imc >= 35 and imc <= 39.9):\n",
        "  status = \"Obesidade grau II!\"\n",
        "  print(f\"{status} Seu IMC: {imc}\")\n",
        "else:\n",
        "  status = \"Obesidade grau III!\"\n",
        "  print(f\"{status} Seu IMC: {imc}\")"
      ],
      "metadata": {
        "colab": {
          "base_uri": "https://localhost:8080/"
        },
        "id": "371qhBU9coGi",
        "outputId": "6623e769-9219-463f-8cd1-1e9622e3766f"
      },
      "execution_count": 22,
      "outputs": [
        {
          "output_type": "stream",
          "name": "stdout",
          "text": [
            "Peso Ideal! Seu IMC: 20.0\n"
          ]
        }
      ]
    },
    {
      "cell_type": "markdown",
      "source": [
        "# Geração do PDF"
      ],
      "metadata": {
        "id": "qlhaMPqUa9CR"
      }
    },
    {
      "cell_type": "code",
      "source": [
        "!pip install pdf_reports"
      ],
      "metadata": {
        "id": "Inknq4jLbJD6"
      },
      "execution_count": null,
      "outputs": []
    },
    {
      "cell_type": "code",
      "source": [
        "import pdf_reports"
      ],
      "metadata": {
        "id": "qwqbRkSQifPI"
      },
      "execution_count": 13,
      "outputs": []
    },
    {
      "cell_type": "code",
      "source": [
        "dados_paciente ={\n",
        "    \"nome\": nome,\n",
        "    \"idade\": idade,\n",
        "    \"peso\": peso,\n",
        "    \"altura\": altura,\n",
        "    \"status\": status\n",
        "}"
      ],
      "metadata": {
        "id": "rp8a20rjjEpJ"
      },
      "execution_count": 23,
      "outputs": []
    },
    {
      "cell_type": "code",
      "source": [
        "dados_paciente"
      ],
      "metadata": {
        "colab": {
          "base_uri": "https://localhost:8080/"
        },
        "id": "9ZXTuoMOkCQ9",
        "outputId": "052f8831-7d1e-4ff3-fca9-8729f89323b7"
      },
      "execution_count": 24,
      "outputs": [
        {
          "output_type": "execute_result",
          "data": {
            "text/plain": [
              "{'nome': 'Fernando Gomes',\n",
              " 'idade': '20',\n",
              " 'peso': 60.0,\n",
              " 'altura': 1.71,\n",
              " 'status': 'Peso Ideal!'}"
            ]
          },
          "metadata": {},
          "execution_count": 24
        }
      ]
    },
    {
      "cell_type": "code",
      "source": [
        "template = pdf_reports.pug_to_html(\"template.pug\", dados = dados_paciente)"
      ],
      "metadata": {
        "id": "aJ77zRvkkCuU"
      },
      "execution_count": 25,
      "outputs": []
    },
    {
      "cell_type": "code",
      "source": [
        "pdf_reports.write_report(template, \"Ficha_paciente.pdf\", use_default_styling=False)"
      ],
      "metadata": {
        "id": "sXeXeLF2liNu"
      },
      "execution_count": 26,
      "outputs": []
    }
  ]
}